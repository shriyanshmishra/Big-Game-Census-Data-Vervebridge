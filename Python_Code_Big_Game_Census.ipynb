{
  "nbformat": 4,
  "nbformat_minor": 0,
  "metadata": {
    "colab": {
      "provenance": []
    },
    "kernelspec": {
      "name": "python3",
      "display_name": "Python 3"
    },
    "language_info": {
      "name": "python"
    }
  },
  "cells": [
    {
      "cell_type": "markdown",
      "source": [
        "# **Importing Libraries**"
      ],
      "metadata": {
        "id": "SepxadSOFTA9"
      }
    },
    {
      "cell_type": "code",
      "execution_count": 1,
      "metadata": {
        "id": "jn2SwZ9WwPwE"
      },
      "outputs": [],
      "source": [
        "import pandas as pd\n",
        "import numpy as np\n"
      ]
    },
    {
      "cell_type": "markdown",
      "source": [
        "# **Importing Dataset**"
      ],
      "metadata": {
        "id": "Qo9lTyiyFbmk"
      }
    },
    {
      "cell_type": "code",
      "source": [
        "from google.colab import files\n",
        "\n",
        "# Upload datasets\n",
        "uploaded = files.upload()\n"
      ],
      "metadata": {
        "colab": {
          "base_uri": "https://localhost:8080/",
          "height": 142
        },
        "id": "ODaUDCMuwQko",
        "outputId": "97b60f9f-bd79-4d03-d2da-90f959affafe"
      },
      "execution_count": 2,
      "outputs": [
        {
          "output_type": "display_data",
          "data": {
            "text/plain": [
              "<IPython.core.display.HTML object>"
            ],
            "text/html": [
              "\n",
              "     <input type=\"file\" id=\"files-66c11d94-58ba-4ad3-adcd-0f3fe7f640fc\" name=\"files[]\" multiple disabled\n",
              "        style=\"border:none\" />\n",
              "     <output id=\"result-66c11d94-58ba-4ad3-adcd-0f3fe7f640fc\">\n",
              "      Upload widget is only available when the cell has been executed in the\n",
              "      current browser session. Please rerun this cell to enable.\n",
              "      </output>\n",
              "      <script>// Copyright 2017 Google LLC\n",
              "//\n",
              "// Licensed under the Apache License, Version 2.0 (the \"License\");\n",
              "// you may not use this file except in compliance with the License.\n",
              "// You may obtain a copy of the License at\n",
              "//\n",
              "//      http://www.apache.org/licenses/LICENSE-2.0\n",
              "//\n",
              "// Unless required by applicable law or agreed to in writing, software\n",
              "// distributed under the License is distributed on an \"AS IS\" BASIS,\n",
              "// WITHOUT WARRANTIES OR CONDITIONS OF ANY KIND, either express or implied.\n",
              "// See the License for the specific language governing permissions and\n",
              "// limitations under the License.\n",
              "\n",
              "/**\n",
              " * @fileoverview Helpers for google.colab Python module.\n",
              " */\n",
              "(function(scope) {\n",
              "function span(text, styleAttributes = {}) {\n",
              "  const element = document.createElement('span');\n",
              "  element.textContent = text;\n",
              "  for (const key of Object.keys(styleAttributes)) {\n",
              "    element.style[key] = styleAttributes[key];\n",
              "  }\n",
              "  return element;\n",
              "}\n",
              "\n",
              "// Max number of bytes which will be uploaded at a time.\n",
              "const MAX_PAYLOAD_SIZE = 100 * 1024;\n",
              "\n",
              "function _uploadFiles(inputId, outputId) {\n",
              "  const steps = uploadFilesStep(inputId, outputId);\n",
              "  const outputElement = document.getElementById(outputId);\n",
              "  // Cache steps on the outputElement to make it available for the next call\n",
              "  // to uploadFilesContinue from Python.\n",
              "  outputElement.steps = steps;\n",
              "\n",
              "  return _uploadFilesContinue(outputId);\n",
              "}\n",
              "\n",
              "// This is roughly an async generator (not supported in the browser yet),\n",
              "// where there are multiple asynchronous steps and the Python side is going\n",
              "// to poll for completion of each step.\n",
              "// This uses a Promise to block the python side on completion of each step,\n",
              "// then passes the result of the previous step as the input to the next step.\n",
              "function _uploadFilesContinue(outputId) {\n",
              "  const outputElement = document.getElementById(outputId);\n",
              "  const steps = outputElement.steps;\n",
              "\n",
              "  const next = steps.next(outputElement.lastPromiseValue);\n",
              "  return Promise.resolve(next.value.promise).then((value) => {\n",
              "    // Cache the last promise value to make it available to the next\n",
              "    // step of the generator.\n",
              "    outputElement.lastPromiseValue = value;\n",
              "    return next.value.response;\n",
              "  });\n",
              "}\n",
              "\n",
              "/**\n",
              " * Generator function which is called between each async step of the upload\n",
              " * process.\n",
              " * @param {string} inputId Element ID of the input file picker element.\n",
              " * @param {string} outputId Element ID of the output display.\n",
              " * @return {!Iterable<!Object>} Iterable of next steps.\n",
              " */\n",
              "function* uploadFilesStep(inputId, outputId) {\n",
              "  const inputElement = document.getElementById(inputId);\n",
              "  inputElement.disabled = false;\n",
              "\n",
              "  const outputElement = document.getElementById(outputId);\n",
              "  outputElement.innerHTML = '';\n",
              "\n",
              "  const pickedPromise = new Promise((resolve) => {\n",
              "    inputElement.addEventListener('change', (e) => {\n",
              "      resolve(e.target.files);\n",
              "    });\n",
              "  });\n",
              "\n",
              "  const cancel = document.createElement('button');\n",
              "  inputElement.parentElement.appendChild(cancel);\n",
              "  cancel.textContent = 'Cancel upload';\n",
              "  const cancelPromise = new Promise((resolve) => {\n",
              "    cancel.onclick = () => {\n",
              "      resolve(null);\n",
              "    };\n",
              "  });\n",
              "\n",
              "  // Wait for the user to pick the files.\n",
              "  const files = yield {\n",
              "    promise: Promise.race([pickedPromise, cancelPromise]),\n",
              "    response: {\n",
              "      action: 'starting',\n",
              "    }\n",
              "  };\n",
              "\n",
              "  cancel.remove();\n",
              "\n",
              "  // Disable the input element since further picks are not allowed.\n",
              "  inputElement.disabled = true;\n",
              "\n",
              "  if (!files) {\n",
              "    return {\n",
              "      response: {\n",
              "        action: 'complete',\n",
              "      }\n",
              "    };\n",
              "  }\n",
              "\n",
              "  for (const file of files) {\n",
              "    const li = document.createElement('li');\n",
              "    li.append(span(file.name, {fontWeight: 'bold'}));\n",
              "    li.append(span(\n",
              "        `(${file.type || 'n/a'}) - ${file.size} bytes, ` +\n",
              "        `last modified: ${\n",
              "            file.lastModifiedDate ? file.lastModifiedDate.toLocaleDateString() :\n",
              "                                    'n/a'} - `));\n",
              "    const percent = span('0% done');\n",
              "    li.appendChild(percent);\n",
              "\n",
              "    outputElement.appendChild(li);\n",
              "\n",
              "    const fileDataPromise = new Promise((resolve) => {\n",
              "      const reader = new FileReader();\n",
              "      reader.onload = (e) => {\n",
              "        resolve(e.target.result);\n",
              "      };\n",
              "      reader.readAsArrayBuffer(file);\n",
              "    });\n",
              "    // Wait for the data to be ready.\n",
              "    let fileData = yield {\n",
              "      promise: fileDataPromise,\n",
              "      response: {\n",
              "        action: 'continue',\n",
              "      }\n",
              "    };\n",
              "\n",
              "    // Use a chunked sending to avoid message size limits. See b/62115660.\n",
              "    let position = 0;\n",
              "    do {\n",
              "      const length = Math.min(fileData.byteLength - position, MAX_PAYLOAD_SIZE);\n",
              "      const chunk = new Uint8Array(fileData, position, length);\n",
              "      position += length;\n",
              "\n",
              "      const base64 = btoa(String.fromCharCode.apply(null, chunk));\n",
              "      yield {\n",
              "        response: {\n",
              "          action: 'append',\n",
              "          file: file.name,\n",
              "          data: base64,\n",
              "        },\n",
              "      };\n",
              "\n",
              "      let percentDone = fileData.byteLength === 0 ?\n",
              "          100 :\n",
              "          Math.round((position / fileData.byteLength) * 100);\n",
              "      percent.textContent = `${percentDone}% done`;\n",
              "\n",
              "    } while (position < fileData.byteLength);\n",
              "  }\n",
              "\n",
              "  // All done.\n",
              "  yield {\n",
              "    response: {\n",
              "      action: 'complete',\n",
              "    }\n",
              "  };\n",
              "}\n",
              "\n",
              "scope.google = scope.google || {};\n",
              "scope.google.colab = scope.google.colab || {};\n",
              "scope.google.colab._files = {\n",
              "  _uploadFiles,\n",
              "  _uploadFilesContinue,\n",
              "};\n",
              "})(self);\n",
              "</script> "
            ]
          },
          "metadata": {}
        },
        {
          "output_type": "stream",
          "name": "stdout",
          "text": [
            "Saving All Places Census 2016 Population Estimates.xlsx to All Places Census 2016 Population Estimates.xlsx\n",
            "Saving All states Census 2017 Population Estimates.xlsx to All states Census 2017 Population Estimates.xlsx\n",
            "Saving Big Game Census data.xlsx to Big Game Census data.xlsx\n"
          ]
        }
      ]
    },
    {
      "cell_type": "markdown",
      "source": [
        "# **Loading and Displaying the dataset**"
      ],
      "metadata": {
        "id": "CG5LD7ozFm_e"
      }
    },
    {
      "cell_type": "code",
      "source": [
        "# Load the datasets\n",
        "big_game_data = pd.read_excel('Big Game Census data.xlsx')  # Replace with actual filename\n",
        "all_places_2016 = pd.read_excel('All Places Census 2016 Population Estimates.xlsx')  # Replace with actual filename\n",
        "all_states_2017 = pd.read_excel('All states Census 2017 Population Estimates.xlsx')  # Replace with actual filename\n"
      ],
      "metadata": {
        "id": "Ep6HVR1zwZjI"
      },
      "execution_count": 3,
      "outputs": []
    },
    {
      "cell_type": "code",
      "source": [
        "# Display the first few rows\n",
        "print(big_game_data.head())\n",
        "\n"
      ],
      "metadata": {
        "colab": {
          "base_uri": "https://localhost:8080/"
        },
        "id": "PT_RAGKCwk-R",
        "outputId": "46957e7c-b7bf-4e57-a31b-ac19d8ce652c"
      },
      "execution_count": 4,
      "outputs": [
        {
          "output_type": "stream",
          "name": "stdout",
          "text": [
            "        Player Name Player Jersey Number Player Position  Player Age  \\\n",
            "0    Devin McCourty                  #32            S/FS        30.0   \n",
            "1    Danny Amendola                  #80        PR/WR/KR        32.0   \n",
            "2  Johnson Bademosi                  #29     CB/SPTM/RCB        27.0   \n",
            "3       Chris Hogan                  #15              WR        29.0   \n",
            "4     James Develin                  #46           RB/FB        29.0   \n",
            "\n",
            "   Player Weight (lbs.) Years Played Player Birthplace (city, town, etc.)  \\\n",
            "0                 195.0            8                               Nanuet   \n",
            "1                 190.0            9                        The Woodlands   \n",
            "2                 206.0            6                        Silver Spring   \n",
            "3                 210.0            5                              Wyckoff   \n",
            "4                 255.0            5                        Gilbertsville   \n",
            "\n",
            "  Player Birth State    Player Birthplace (Combo) Player College  ...  \\\n",
            "0           New York             Nanuet, New York        Rutgers  ...   \n",
            "1              Texas         The Woodlands, Texas     Texas Tech  ...   \n",
            "2           Maryland      Silver Spring, Maryland       Stanford  ...   \n",
            "3         New Jersey          Wyckoff, New Jersey       Monmouth  ...   \n",
            "4       Pennsylvania  Gilbertsville, Pennsylvania          Brown  ...   \n",
            "\n",
            "    Full GEOID Latitude (player birthplace) Longitude (player birthplace)  \\\n",
            "0  0400000US36                    41.088707                    -74.013473   \n",
            "1  0400000US48                    30.173419                    -95.504686   \n",
            "2  0400000US24                    38.990666                    -77.026088   \n",
            "3  0400000US34                    41.009542                    -74.172922   \n",
            "4  0400000US42                    40.320097                    -75.610184   \n",
            "\n",
            "   Number from City Number of Records  \\\n",
            "0               1.0               1.0   \n",
            "1               1.0               1.0   \n",
            "2               1.0               1.0   \n",
            "3               1.0               1.0   \n",
            "4               1.0               1.0   \n",
            "\n",
            "   American FactFinder Link for more Census data points  \\\n",
            "0  https://factfinder.census.gov/bkmk/cf/1.0/en/p...      \n",
            "1  https://factfinder.census.gov/bkmk/cf/1.0/en/p...      \n",
            "2  https://factfinder.census.gov/bkmk/cf/1.0/en/p...      \n",
            "3  https://factfinder.census.gov/bkmk/cf/1.0/en/p...      \n",
            "4  https://factfinder.census.gov/bkmk/cf/1.0/en/p...      \n",
            "\n",
            "                                     Quickfacts Link  \\\n",
            "0  https://www.census.gov/quickfacts/fact/table/N...   \n",
            "1  https://www.census.gov/quickfacts/fact/table/T...   \n",
            "2  https://www.census.gov/quickfacts/fact/table/S...   \n",
            "3  https://www.census.gov/quickfacts/fact/table/W...   \n",
            "4  https://www.census.gov/quickfacts/fact/table/G...   \n",
            "\n",
            "                                     State Data Link  \\\n",
            "0  https://factfinder.census.gov/bkmk/cf/1.0/en/s...   \n",
            "1  https://factfinder.census.gov/bkmk/cf/1.0/en/s...   \n",
            "2  https://factfinder.census.gov/bkmk/cf/1.0/en/s...   \n",
            "3  https://factfinder.census.gov/bkmk/cf/1.0/en/s...   \n",
            "4  https://factfinder.census.gov/bkmk/cf/1.0/en/s...   \n",
            "\n",
            "                     Source (Population States 2017)  \\\n",
            "0  U.S. Census Bureau, 2017 Annual Estimates of t...   \n",
            "1  U.S. Census Bureau, 2017 Annual Estimates of t...   \n",
            "2  U.S. Census Bureau, 2017 Annual Estimates of t...   \n",
            "3  U.S. Census Bureau, 2017 Annual Estimates of t...   \n",
            "4  U.S. Census Bureau, 2017 Annual Estimates of t...   \n",
            "\n",
            "                  Birthplace, Population Data Source  \n",
            "0  U.S. Census Bureau, 2012-2016 American Communi...  \n",
            "1  U.S. Census Bureau, 2012-2016 American Communi...  \n",
            "2  U.S. Census Bureau, 2012-2016 American Communi...  \n",
            "3  U.S. Census Bureau, 2012-2016 American Communi...  \n",
            "4  U.S. Census Bureau, 2012-2016 American Communi...  \n",
            "\n",
            "[5 rows x 24 columns]\n"
          ]
        }
      ]
    },
    {
      "cell_type": "code",
      "source": [
        "print(all_places_2016.head())\n"
      ],
      "metadata": {
        "colab": {
          "base_uri": "https://localhost:8080/"
        },
        "id": "ncAVAUurxdIJ",
        "outputId": "de4eb2a3-ec5e-416f-d8a9-ee7d25817122"
      },
      "execution_count": 5,
      "outputs": [
        {
          "output_type": "stream",
          "name": "stdout",
          "text": [
            "      Geographic ID  GEOID 2 Geography, full name (City, State)  \\\n",
            "0  1620000US0100124   100124            Abbeville city, Alabama   \n",
            "1  1620000US0100460   100460           Adamsville city, Alabama   \n",
            "2  1620000US0100484   100484              Addison town, Alabama   \n",
            "3  1620000US0100676   100676                Akron town, Alabama   \n",
            "4  1620000US0100820   100820            Alabaster city, Alabama   \n",
            "\n",
            "  April 1, 2010 - Census  April 1, 2010 - Estimates Base  \\\n",
            "0                   2688                            2688   \n",
            "1                   4522                            4522   \n",
            "2                    758                             756   \n",
            "3                    356                             356   \n",
            "4                  30352                           31066   \n",
            "\n",
            "   Population Estimate (as of July 1) - 2010  \\\n",
            "0                                       2683   \n",
            "1                                       4517   \n",
            "2                                        754   \n",
            "3                                        355   \n",
            "4                                      31176   \n",
            "\n",
            "   Population Estimate (as of July 1) - 2011  \\\n",
            "0                                       2685   \n",
            "1                                       4495   \n",
            "2                                        753   \n",
            "3                                        345   \n",
            "4                                      31362   \n",
            "\n",
            "   Population Estimate (as of July 1) - 2012  \\\n",
            "0                                       2647   \n",
            "1                                       4472   \n",
            "2                                        748   \n",
            "3                                        345   \n",
            "4                                      31663   \n",
            "\n",
            "   Population Estimate (as of July 1) - 2013  \\\n",
            "0                                       2631   \n",
            "1                                       4447   \n",
            "2                                        748   \n",
            "3                                        342   \n",
            "4                                      31960   \n",
            "\n",
            "   Population Estimate (as of July 1) - 2014  \\\n",
            "0                                       2619   \n",
            "1                                       4428   \n",
            "2                                        747   \n",
            "3                                        337   \n",
            "4                                      32167   \n",
            "\n",
            "   Population Estimate (as of July 1) - 2015  \\\n",
            "0                                       2616   \n",
            "1                                       4395   \n",
            "2                                        740   \n",
            "3                                        337   \n",
            "4                                      32751   \n",
            "\n",
            "   Population Estimate (as of July 1) - 2016  \n",
            "0                                       2603  \n",
            "1                                       4360  \n",
            "2                                        738  \n",
            "3                                        334  \n",
            "4                                      32948  \n"
          ]
        }
      ]
    },
    {
      "cell_type": "code",
      "source": [
        "print(all_states_2017.head())"
      ],
      "metadata": {
        "colab": {
          "base_uri": "https://localhost:8080/"
        },
        "id": "wvbuz_Kxxk4P",
        "outputId": "f07b8253-2bf5-45ed-dc5c-d6189c1e6237"
      },
      "execution_count": 6,
      "outputs": [
        {
          "output_type": "stream",
          "name": "stdout",
          "text": [
            "         GEOID  GEOID2 Geography Name  April 1, 2010 - Census  \\\n",
            "0  0400000US01       1        Alabama                 4779736   \n",
            "1  0400000US02       2         Alaska                  710231   \n",
            "2  0400000US04       4        Arizona                 6392017   \n",
            "3  0400000US05       5       Arkansas                 2915918   \n",
            "4  0400000US06       6     California                37253956   \n",
            "\n",
            "   April 1, 2010 - Estimates Base  Population Estimate (as of July 1) - 2010  \\\n",
            "0                         4780135                                    4785579   \n",
            "1                          710249                                     714015   \n",
            "2                         6392309                                    6407002   \n",
            "3                         2916031                                    2921737   \n",
            "4                        37254518                                   37327690   \n",
            "\n",
            "   Population Estimate (as of July 1) - 2011  \\\n",
            "0                                    4798649   \n",
            "1                                     722259   \n",
            "2                                    6465488   \n",
            "3                                    2938640   \n",
            "4                                   37672654   \n",
            "\n",
            "   Population Estimate (as of July 1) - 2012  \\\n",
            "0                                    4813946   \n",
            "1                                     730825   \n",
            "2                                    6544211   \n",
            "3                                    2949208   \n",
            "4                                   38019006   \n",
            "\n",
            "   Population Estimate (as of July 1) - 2013  \\\n",
            "0                                    4827660   \n",
            "1                                     736760   \n",
            "2                                    6616124   \n",
            "3                                    2956780   \n",
            "4                                   38347383   \n",
            "\n",
            "   Population Estimate (as of July 1) - 2014  \\\n",
            "0                                    4840037   \n",
            "1                                     736759   \n",
            "2                                    6706435   \n",
            "3                                    2964800   \n",
            "4                                   38701278   \n",
            "\n",
            "   Population Estimate (as of July 1) - 2015  \\\n",
            "0                                    4850858   \n",
            "1                                     737979   \n",
            "2                                    6802262   \n",
            "3                                    2975626   \n",
            "4                                   39032444   \n",
            "\n",
            "   Population Estimate (as of July 1) - 2016  \\\n",
            "0                                    4860545   \n",
            "1                                     741522   \n",
            "2                                    6908642   \n",
            "3                                    2988231   \n",
            "4                                   39296476   \n",
            "\n",
            "   Population Estimate (as of July 1) - 2017  \n",
            "0                                    4874747  \n",
            "1                                     739795  \n",
            "2                                    7016270  \n",
            "3                                    3004279  \n",
            "4                                   39536653  \n"
          ]
        }
      ]
    },
    {
      "cell_type": "markdown",
      "source": [
        "# **Data Cleaning and Merging**"
      ],
      "metadata": {
        "id": "26Y5411oFw-W"
      }
    },
    {
      "cell_type": "code",
      "source": [
        "# Check column names and missing values for each dataset\n",
        "print(\"Big Game Census Data Columns:\\n\", big_game_data.columns)\n",
        "print(\"\\nMissing values in Big Game Census Data:\\n\", big_game_data.isnull().sum())\n",
        "\n",
        "\n"
      ],
      "metadata": {
        "colab": {
          "base_uri": "https://localhost:8080/"
        },
        "id": "ZOV4dtVSxlhy",
        "outputId": "5744da8b-4d60-428f-b5e1-867d3a64b5f8"
      },
      "execution_count": 7,
      "outputs": [
        {
          "output_type": "stream",
          "name": "stdout",
          "text": [
            "Big Game Census Data Columns:\n",
            " Index(['Player Name', 'Player Jersey Number', 'Player Position', 'Player Age',\n",
            "       'Player Weight (lbs.)', 'Years Played',\n",
            "       'Player Birthplace (city, town, etc.)', 'Player Birth State',\n",
            "       'Player Birthplace (Combo)', 'Player College', 'Player Team',\n",
            "       'Conference',\n",
            "       '2016 Population Estimates (except where otherwise noted)',\n",
            "       'State GEO ID', 'Full GEOID', 'Latitude (player birthplace)',\n",
            "       'Longitude (player birthplace)', 'Number from City',\n",
            "       'Number of Records',\n",
            "       'American FactFinder Link for more Census data points',\n",
            "       'Quickfacts Link', 'State Data Link', 'Source (Population States 2017)',\n",
            "       'Birthplace, Population Data Source'],\n",
            "      dtype='object')\n",
            "\n",
            "Missing values in Big Game Census Data:\n",
            " Player Name                                                 2\n",
            "Player Jersey Number                                        3\n",
            "Player Position                                             3\n",
            "Player Age                                                  3\n",
            "Player Weight (lbs.)                                        3\n",
            "Years Played                                                3\n",
            "Player Birthplace (city, town, etc.)                        3\n",
            "Player Birth State                                          3\n",
            "Player Birthplace (Combo)                                   3\n",
            "Player College                                              3\n",
            "Player Team                                                 3\n",
            "Conference                                                  3\n",
            "2016 Population Estimates (except where otherwise noted)    3\n",
            "State GEO ID                                                3\n",
            "Full GEOID                                                  3\n",
            "Latitude (player birthplace)                                3\n",
            "Longitude (player birthplace)                               3\n",
            "Number from City                                            3\n",
            "Number of Records                                           3\n",
            "American FactFinder Link for more Census data points        3\n",
            "Quickfacts Link                                             3\n",
            "State Data Link                                             3\n",
            "Source (Population States 2017)                             3\n",
            "Birthplace, Population Data Source                          3\n",
            "dtype: int64\n"
          ]
        }
      ]
    },
    {
      "cell_type": "code",
      "source": [
        "print(\"\\nAll Places Census 2016 Columns:\\n\", all_places_2016.columns)\n",
        "print(\"\\nMissing values in All Places Census 2016:\\n\", all_places_2016.isnull().sum())\n"
      ],
      "metadata": {
        "colab": {
          "base_uri": "https://localhost:8080/"
        },
        "id": "1k8WQpcV1cEE",
        "outputId": "ae7a720f-d0d6-4a2e-c130-7c0c5b9f0e31"
      },
      "execution_count": 8,
      "outputs": [
        {
          "output_type": "stream",
          "name": "stdout",
          "text": [
            "\n",
            "All Places Census 2016 Columns:\n",
            " Index(['Geographic ID', 'GEOID 2', 'Geography, full name (City, State)',\n",
            "       'April 1, 2010 - Census', 'April 1, 2010 - Estimates Base',\n",
            "       'Population Estimate (as of July 1) - 2010',\n",
            "       'Population Estimate (as of July 1) - 2011',\n",
            "       'Population Estimate (as of July 1) - 2012',\n",
            "       'Population Estimate (as of July 1) - 2013',\n",
            "       'Population Estimate (as of July 1) - 2014',\n",
            "       'Population Estimate (as of July 1) - 2015',\n",
            "       'Population Estimate (as of July 1) - 2016'],\n",
            "      dtype='object')\n",
            "\n",
            "Missing values in All Places Census 2016:\n",
            " Geographic ID                                0\n",
            "GEOID 2                                      0\n",
            "Geography, full name (City, State)           0\n",
            "April 1, 2010 - Census                       0\n",
            "April 1, 2010 - Estimates Base               0\n",
            "Population Estimate (as of July 1) - 2010    0\n",
            "Population Estimate (as of July 1) - 2011    0\n",
            "Population Estimate (as of July 1) - 2012    0\n",
            "Population Estimate (as of July 1) - 2013    0\n",
            "Population Estimate (as of July 1) - 2014    0\n",
            "Population Estimate (as of July 1) - 2015    0\n",
            "Population Estimate (as of July 1) - 2016    0\n",
            "dtype: int64\n"
          ]
        }
      ]
    },
    {
      "cell_type": "code",
      "source": [
        "\n",
        "print(\"\\nAll States Census 2017 Columns:\\n\", all_states_2017.columns)\n",
        "print(\"\\nMissing values in All States Census 2017:\\n\", all_states_2017.isnull().sum())"
      ],
      "metadata": {
        "colab": {
          "base_uri": "https://localhost:8080/"
        },
        "id": "1ypQfciH1fme",
        "outputId": "f272abd3-235c-4d48-ac15-1e4cc800627b"
      },
      "execution_count": 9,
      "outputs": [
        {
          "output_type": "stream",
          "name": "stdout",
          "text": [
            "\n",
            "All States Census 2017 Columns:\n",
            " Index(['GEOID', 'GEOID2', 'Geography Name', 'April 1, 2010 - Census',\n",
            "       'April 1, 2010 - Estimates Base',\n",
            "       'Population Estimate (as of July 1) - 2010',\n",
            "       'Population Estimate (as of July 1) - 2011',\n",
            "       'Population Estimate (as of July 1) - 2012',\n",
            "       'Population Estimate (as of July 1) - 2013',\n",
            "       'Population Estimate (as of July 1) - 2014',\n",
            "       'Population Estimate (as of July 1) - 2015',\n",
            "       'Population Estimate (as of July 1) - 2016',\n",
            "       'Population Estimate (as of July 1) - 2017'],\n",
            "      dtype='object')\n",
            "\n",
            "Missing values in All States Census 2017:\n",
            " GEOID                                        0\n",
            "GEOID2                                       0\n",
            "Geography Name                               0\n",
            "April 1, 2010 - Census                       0\n",
            "April 1, 2010 - Estimates Base               0\n",
            "Population Estimate (as of July 1) - 2010    0\n",
            "Population Estimate (as of July 1) - 2011    0\n",
            "Population Estimate (as of July 1) - 2012    0\n",
            "Population Estimate (as of July 1) - 2013    0\n",
            "Population Estimate (as of July 1) - 2014    0\n",
            "Population Estimate (as of July 1) - 2015    0\n",
            "Population Estimate (as of July 1) - 2016    0\n",
            "Population Estimate (as of July 1) - 2017    0\n",
            "dtype: int64\n"
          ]
        }
      ]
    },
    {
      "cell_type": "code",
      "source": [
        "# Merge Big Game Census data with All Places Census 2016 Population Estimates\n",
        "merged_places = pd.merge(big_game_data, all_places_2016,\n",
        "                         left_on='Player Birthplace (Combo)',\n",
        "                         right_on='Geography, full name (City, State)',\n",
        "                         how='left')\n",
        "\n",
        "# Merge the result with All States Census 2017 Population Estimates\n",
        "final_merged_data = pd.merge(merged_places, all_states_2017,\n",
        "                             left_on='Player Birth State',\n",
        "                             right_on='Geography Name',\n",
        "                             how='left')\n",
        "\n",
        "# Check the merged data to ensure it contains rows\n",
        "print(final_merged_data.head())\n",
        "print(final_merged_data.info())\n"
      ],
      "metadata": {
        "colab": {
          "base_uri": "https://localhost:8080/"
        },
        "id": "VyziFIsGE3sx",
        "outputId": "7bd2932c-3cce-47d1-d79b-dc9f628be11c"
      },
      "execution_count": 12,
      "outputs": [
        {
          "output_type": "stream",
          "name": "stdout",
          "text": [
            "        Player Name Player Jersey Number Player Position  Player Age  \\\n",
            "0    Devin McCourty                  #32            S/FS        30.0   \n",
            "1    Danny Amendola                  #80        PR/WR/KR        32.0   \n",
            "2  Johnson Bademosi                  #29     CB/SPTM/RCB        27.0   \n",
            "3       Chris Hogan                  #15              WR        29.0   \n",
            "4     James Develin                  #46           RB/FB        29.0   \n",
            "\n",
            "   Player Weight (lbs.) Years Played Player Birthplace (city, town, etc.)  \\\n",
            "0                 195.0            8                               Nanuet   \n",
            "1                 190.0            9                        The Woodlands   \n",
            "2                 206.0            6                        Silver Spring   \n",
            "3                 210.0            5                              Wyckoff   \n",
            "4                 255.0            5                        Gilbertsville   \n",
            "\n",
            "  Player Birth State    Player Birthplace (Combo) Player College  ...  \\\n",
            "0           New York             Nanuet, New York        Rutgers  ...   \n",
            "1              Texas         The Woodlands, Texas     Texas Tech  ...   \n",
            "2           Maryland      Silver Spring, Maryland       Stanford  ...   \n",
            "3         New Jersey          Wyckoff, New Jersey       Monmouth  ...   \n",
            "4       Pennsylvania  Gilbertsville, Pennsylvania          Brown  ...   \n",
            "\n",
            "  April 1, 2010 - Census_y April 1, 2010 - Estimates Base_y  \\\n",
            "0               19378102.0                       19378110.0   \n",
            "1               25145561.0                       25146100.0   \n",
            "2                5773552.0                        5773807.0   \n",
            "3                8791894.0                        8791953.0   \n",
            "4               12702379.0                       12702857.0   \n",
            "\n",
            "  Population Estimate (as of July 1) - 2010_y  \\\n",
            "0                                  19405185.0   \n",
            "1                                  25241648.0   \n",
            "2                                   5788099.0   \n",
            "3                                   8803708.0   \n",
            "4                                  12711063.0   \n",
            "\n",
            "   Population Estimate (as of July 1) - 2011_y  \\\n",
            "0                                   19526372.0   \n",
            "1                                   25644424.0   \n",
            "2                                    5843115.0   \n",
            "3                                    8844694.0   \n",
            "4                                   12742811.0   \n",
            "\n",
            "  Population Estimate (as of July 1) - 2012_y  \\\n",
            "0                                  19625409.0   \n",
            "1                                  26078327.0   \n",
            "2                                   5891680.0   \n",
            "3                                   8882095.0   \n",
            "4                                  12768034.0   \n",
            "\n",
            "   Population Estimate (as of July 1) - 2013_y  \\\n",
            "0                                   19712514.0   \n",
            "1                                   26479279.0   \n",
            "2                                    5932654.0   \n",
            "3                                    8913735.0   \n",
            "4                                   12778450.0   \n",
            "\n",
            "   Population Estimate (as of July 1) - 2014_y  \\\n",
            "0                                   19773580.0   \n",
            "1                                   26954436.0   \n",
            "2                                    5970245.0   \n",
            "3                                    8943010.0   \n",
            "4                                   12790341.0   \n",
            "\n",
            "   Population Estimate (as of July 1) - 2015_y  \\\n",
            "0                                   19819347.0   \n",
            "1                                   27454880.0   \n",
            "2                                    6000561.0   \n",
            "3                                    8960001.0   \n",
            "4                                   12791124.0   \n",
            "\n",
            "   Population Estimate (as of July 1) - 2016_y  \\\n",
            "0                                   19836286.0   \n",
            "1                                   27904862.0   \n",
            "2                                    6024752.0   \n",
            "3                                    8978416.0   \n",
            "4                                   12787085.0   \n",
            "\n",
            "  Population Estimate (as of July 1) - 2017  \n",
            "0                                19849399.0  \n",
            "1                                28304596.0  \n",
            "2                                 6052177.0  \n",
            "3                                 9005644.0  \n",
            "4                                12805537.0  \n",
            "\n",
            "[5 rows x 49 columns]\n",
            "<class 'pandas.core.frame.DataFrame'>\n",
            "RangeIndex: 121 entries, 0 to 120\n",
            "Data columns (total 49 columns):\n",
            " #   Column                                                    Non-Null Count  Dtype  \n",
            "---  ------                                                    --------------  -----  \n",
            " 0   Player Name                                               119 non-null    object \n",
            " 1   Player Jersey Number                                      118 non-null    object \n",
            " 2   Player Position                                           118 non-null    object \n",
            " 3   Player Age                                                118 non-null    float64\n",
            " 4   Player Weight (lbs.)                                      118 non-null    float64\n",
            " 5   Years Played                                              118 non-null    object \n",
            " 6   Player Birthplace (city, town, etc.)                      118 non-null    object \n",
            " 7   Player Birth State                                        118 non-null    object \n",
            " 8   Player Birthplace (Combo)                                 118 non-null    object \n",
            " 9   Player College                                            118 non-null    object \n",
            " 10  Player Team                                               118 non-null    object \n",
            " 11  Conference                                                118 non-null    object \n",
            " 12  2016 Population Estimates (except where otherwise noted)  118 non-null    object \n",
            " 13  State GEO ID                                              118 non-null    float64\n",
            " 14  Full GEOID                                                118 non-null    object \n",
            " 15  Latitude (player birthplace)                              118 non-null    float64\n",
            " 16  Longitude (player birthplace)                             118 non-null    float64\n",
            " 17  Number from City                                          118 non-null    float64\n",
            " 18  Number of Records                                         118 non-null    float64\n",
            " 19  American FactFinder Link for more Census data points      118 non-null    object \n",
            " 20  Quickfacts Link                                           118 non-null    object \n",
            " 21  State Data Link                                           118 non-null    object \n",
            " 22  Source (Population States 2017)                           118 non-null    object \n",
            " 23  Birthplace, Population Data Source                        118 non-null    object \n",
            " 24  Geographic ID                                             0 non-null      object \n",
            " 25  GEOID 2                                                   0 non-null      float64\n",
            " 26  Geography, full name (City, State)                        0 non-null      object \n",
            " 27  April 1, 2010 - Census_x                                  0 non-null      object \n",
            " 28  April 1, 2010 - Estimates Base_x                          0 non-null      float64\n",
            " 29  Population Estimate (as of July 1) - 2010_x               0 non-null      float64\n",
            " 30  Population Estimate (as of July 1) - 2011_x               0 non-null      float64\n",
            " 31  Population Estimate (as of July 1) - 2012_x               0 non-null      float64\n",
            " 32  Population Estimate (as of July 1) - 2013_x               0 non-null      float64\n",
            " 33  Population Estimate (as of July 1) - 2014_x               0 non-null      float64\n",
            " 34  Population Estimate (as of July 1) - 2015_x               0 non-null      float64\n",
            " 35  Population Estimate (as of July 1) - 2016_x               0 non-null      float64\n",
            " 36  GEOID                                                     115 non-null    object \n",
            " 37  GEOID2                                                    115 non-null    float64\n",
            " 38  Geography Name                                            115 non-null    object \n",
            " 39  April 1, 2010 - Census_y                                  115 non-null    float64\n",
            " 40  April 1, 2010 - Estimates Base_y                          115 non-null    float64\n",
            " 41  Population Estimate (as of July 1) - 2010_y               115 non-null    float64\n",
            " 42  Population Estimate (as of July 1) - 2011_y               115 non-null    float64\n",
            " 43  Population Estimate (as of July 1) - 2012_y               115 non-null    float64\n",
            " 44  Population Estimate (as of July 1) - 2013_y               115 non-null    float64\n",
            " 45  Population Estimate (as of July 1) - 2014_y               115 non-null    float64\n",
            " 46  Population Estimate (as of July 1) - 2015_y               115 non-null    float64\n",
            " 47  Population Estimate (as of July 1) - 2016_y               115 non-null    float64\n",
            " 48  Population Estimate (as of July 1) - 2017                 115 non-null    float64\n",
            "dtypes: float64(27), object(22)\n",
            "memory usage: 46.4+ KB\n",
            "None\n"
          ]
        }
      ]
    },
    {
      "cell_type": "markdown",
      "source": [
        "# **Extracting and Exporting The Final Data**"
      ],
      "metadata": {
        "id": "srJ2PMK5GBbC"
      }
    },
    {
      "cell_type": "code",
      "source": [
        "# Select the key columns you need for your project\n",
        "final_cleaned_data = final_merged_data[[\n",
        "    'Player Name',\n",
        "    'Player Team',\n",
        "    'Player Position',\n",
        "    'Player Birthplace (city, town, etc.)',\n",
        "    'Player Birth State',\n",
        "    'Latitude (player birthplace)',\n",
        "    'Longitude (player birthplace)',\n",
        "    'Population Estimate (as of July 1) - 2016_y',  # State-level 2016 population\n",
        "    'Population Estimate (as of July 1) - 2017'     # State-level 2017 population\n",
        "]]\n",
        "\n",
        "# Rename the columns for clarity\n",
        "final_cleaned_data.columns = [\n",
        "    'Player Name', 'Team', 'Position', 'City', 'State',\n",
        "    'Latitude', 'Longitude', 'Population 2016', 'Population 2017'\n",
        "]\n",
        "\n",
        "# Display the cleaned dataset\n",
        "print(final_cleaned_data.head())\n"
      ],
      "metadata": {
        "colab": {
          "base_uri": "https://localhost:8080/"
        },
        "id": "D10xCCWIEWBG",
        "outputId": "9d28bdd1-8cd5-4d7f-d8c1-157aff95c2eb"
      },
      "execution_count": 13,
      "outputs": [
        {
          "output_type": "stream",
          "name": "stdout",
          "text": [
            "        Player Name         Team     Position           City         State  \\\n",
            "0    Devin McCourty  New England         S/FS         Nanuet      New York   \n",
            "1    Danny Amendola  New England     PR/WR/KR  The Woodlands         Texas   \n",
            "2  Johnson Bademosi  New England  CB/SPTM/RCB  Silver Spring      Maryland   \n",
            "3       Chris Hogan  New England           WR        Wyckoff    New Jersey   \n",
            "4     James Develin  New England        RB/FB  Gilbertsville  Pennsylvania   \n",
            "\n",
            "    Latitude  Longitude  Population 2016  Population 2017  \n",
            "0  41.088707 -74.013473       19836286.0       19849399.0  \n",
            "1  30.173419 -95.504686       27904862.0       28304596.0  \n",
            "2  38.990666 -77.026088        6024752.0        6052177.0  \n",
            "3  41.009542 -74.172922        8978416.0        9005644.0  \n",
            "4  40.320097 -75.610184       12787085.0       12805537.0  \n"
          ]
        }
      ]
    },
    {
      "cell_type": "code",
      "source": [
        "# Drop rows where any column has missing values\n",
        "final_cleaned_data = final_cleaned_data.dropna()\n",
        "\n",
        "# Export the cleaned dataset to CSV\n",
        "final_cleaned_data.to_csv('cleaned_player_data.csv', index=False)\n"
      ],
      "metadata": {
        "id": "ix-WTehB5j7O"
      },
      "execution_count": 14,
      "outputs": []
    },
    {
      "cell_type": "code",
      "source": [
        "# Export the cleaned data to a CSV file\n",
        "final_cleaned_data.to_csv('cleaned_big_game_census_data.csv', index=False)\n",
        "\n",
        "# Download the CSV file to your local machine\n",
        "from google.colab import files\n",
        "files.download('cleaned_big_game_census_data.csv')\n"
      ],
      "metadata": {
        "colab": {
          "base_uri": "https://localhost:8080/",
          "height": 17
        },
        "id": "riDqeXdgzb7O",
        "outputId": "81cf9e5f-083c-40a0-a64d-c99642e73e80"
      },
      "execution_count": 15,
      "outputs": [
        {
          "output_type": "display_data",
          "data": {
            "text/plain": [
              "<IPython.core.display.Javascript object>"
            ],
            "application/javascript": [
              "\n",
              "    async function download(id, filename, size) {\n",
              "      if (!google.colab.kernel.accessAllowed) {\n",
              "        return;\n",
              "      }\n",
              "      const div = document.createElement('div');\n",
              "      const label = document.createElement('label');\n",
              "      label.textContent = `Downloading \"${filename}\": `;\n",
              "      div.appendChild(label);\n",
              "      const progress = document.createElement('progress');\n",
              "      progress.max = size;\n",
              "      div.appendChild(progress);\n",
              "      document.body.appendChild(div);\n",
              "\n",
              "      const buffers = [];\n",
              "      let downloaded = 0;\n",
              "\n",
              "      const channel = await google.colab.kernel.comms.open(id);\n",
              "      // Send a message to notify the kernel that we're ready.\n",
              "      channel.send({})\n",
              "\n",
              "      for await (const message of channel.messages) {\n",
              "        // Send a message to notify the kernel that we're ready.\n",
              "        channel.send({})\n",
              "        if (message.buffers) {\n",
              "          for (const buffer of message.buffers) {\n",
              "            buffers.push(buffer);\n",
              "            downloaded += buffer.byteLength;\n",
              "            progress.value = downloaded;\n",
              "          }\n",
              "        }\n",
              "      }\n",
              "      const blob = new Blob(buffers, {type: 'application/binary'});\n",
              "      const a = document.createElement('a');\n",
              "      a.href = window.URL.createObjectURL(blob);\n",
              "      a.download = filename;\n",
              "      div.appendChild(a);\n",
              "      a.click();\n",
              "      div.remove();\n",
              "    }\n",
              "  "
            ]
          },
          "metadata": {}
        },
        {
          "output_type": "display_data",
          "data": {
            "text/plain": [
              "<IPython.core.display.Javascript object>"
            ],
            "application/javascript": [
              "download(\"download_bfaacf94-08b7-41ac-8332-824ade147188\", \"cleaned_big_game_census_data.csv\", 10828)"
            ]
          },
          "metadata": {}
        }
      ]
    },
    {
      "cell_type": "code",
      "source": [],
      "metadata": {
        "id": "YA2hwUh3FCmt"
      },
      "execution_count": null,
      "outputs": []
    }
  ]
}